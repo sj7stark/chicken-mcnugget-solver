{
 "cells": [
  {
   "cell_type": "markdown",
   "metadata": {},
   "source": [
    "# Solving a Chicken McNugget Problem using Mixed Integer Linear Programming (MILP)"
   ]
  },
  {
   "cell_type": "markdown",
   "metadata": {},
   "source": [
    "# Packages"
   ]
  },
  {
   "cell_type": "code",
   "execution_count": 1,
   "metadata": {},
   "outputs": [],
   "source": [
    "from docplex.mp.model import Model"
   ]
  },
  {
   "cell_type": "markdown",
   "metadata": {},
   "source": [
    "# Inputs"
   ]
  },
  {
   "cell_type": "code",
   "execution_count": 2,
   "metadata": {},
   "outputs": [],
   "source": [
    "# after this many consecutive solves, the algorithm stops\n",
    "threshold_solve = 100\n",
    "\n",
    "# the number of McNuggets we try to purchase and increment by 1 after each solve\n",
    "nugget_rhs = 1\n",
    "\n",
    "# largest number of McNuggets that CANNOT be purchased (changes after each solve with no solution)\n",
    "mcnuggets_sol = 0\n",
    "\n",
    "# dictionary containing the different pack sizes we can purchase\n",
    "pack_size = {1:9,\n",
    "         2:4,\n",
    "         3:9\n",
    "         }"
   ]
  },
  {
   "cell_type": "markdown",
   "metadata": {},
   "source": [
    "# Model"
   ]
  },
  {
   "cell_type": "code",
   "execution_count": 3,
   "metadata": {},
   "outputs": [
    {
     "name": "stdout",
     "output_type": "stream",
     "text": [
      "Final Solution: 11 Chicken McNuggets\n"
     ]
    }
   ],
   "source": [
    "# current count of sucessful consecutive solves\n",
    "consecutive_solve = 0\n",
    "\n",
    "# create a model object\n",
    "nugget_model = Model(name='Chicken-McNugget-Problem')\n",
    "\n",
    "# create the x_i binary decision variables\n",
    "x = nugget_model.integer_var_dict(pack_size.keys(), name=\"x\")\n",
    "\n",
    "# We don't need to maximize or minimize anything, so just set the objective function to max 0\n",
    "nugget_model.maximize(0)\n",
    "\n",
    "while consecutive_solve != threshold_solve:\n",
    "\n",
    "    # add the constraint to the model\n",
    "    nugget_model.add_constraint( nugget_model.sum(pack_size[i]*x[i] for i in pack_size.keys() ) == nugget_rhs)\n",
    "\n",
    "    # solve the problem\n",
    "    nugget_model.solve()\n",
    " \n",
    "    # if there is no solution, set the new obj and reset consecutive_solve counter\n",
    "    if nugget_model.solve_details.status_code != 101:\n",
    "        mcnuggets_sol = nugget_rhs\n",
    "        consecutive_solve = 0\n",
    "\n",
    "    # else, increment the consecutive_solve counter\n",
    "    else:\n",
    "        consecutive_solve += 1\n",
    "\n",
    "    # increment nugget_rhs\n",
    "    nugget_rhs += 1\n",
    "\n",
    "    # clear model constraints\n",
    "    nugget_model.clear_constraints()\n",
    "\n",
    "\n",
    "print(f\"Final Solution: {mcnuggets_sol} Chicken McNuggets\")"
   ]
  },
  {
   "cell_type": "markdown",
   "metadata": {},
   "source": [
    "# Code From ChatGPT"
   ]
  },
  {
   "cell_type": "code",
   "execution_count": 4,
   "metadata": {},
   "outputs": [
    {
     "name": "stdout",
     "output_type": "stream",
     "text": [
      " ! --------------------------------------------------- CP Optimizer 22.1.0.0 --\n",
      " ! Satisfiability problem - 3 variables, 1 constraint\n",
      " ! Initial process time : 0.01s (0.01s extraction + 0.01s propagation)\n",
      " !  . Log search space  : 20.0 (before), 20.0 (after)\n",
      " !  . Memory usage      : 266.9 kB (before), 266.9 kB (after)\n",
      " ! Using parallel search with 12 workers.\n",
      " ! ----------------------------------------------------------------------------\n",
      " !               Branches  Non-fixed    W       Branch decision\n",
      " *                      4  0.02s        1        93  = z\n",
      " ! ----------------------------------------------------------------------------\n",
      " ! Search completed, 1 solution found.\n",
      " ! ----------------------------------------------------------------------------\n",
      " ! Number of branches     : 101\n",
      " ! Number of fails        : 30\n",
      " ! Total memory usage     : 5.6 MB (5.6 MB CP Optimizer + 0.0 MB Concert)\n",
      " ! Time spent in solve    : 0.03s (0.02s engine + 0.01s extraction)\n",
      " ! Search speed (br. / s) : 6312.5\n",
      " ! ----------------------------------------------------------------------------\n",
      "Largest number of McNuggets we would NOT be able to purchase:  2283\n"
     ]
    }
   ],
   "source": [
    "from docplex.cp.model import CpoModel\n",
    "\n",
    "# Create the model\n",
    "mdl = CpoModel()\n",
    "\n",
    "# Create variables\n",
    "x = mdl.integer_var(0, 100, \"x\")\n",
    "y = mdl.integer_var(0, 100, \"y\")\n",
    "z = mdl.integer_var(0, 100, \"z\")\n",
    "\n",
    "# Create the constraint\n",
    "mdl.add(x*6 + y*9 + z*20 >= 150)\n",
    "\n",
    "# Solve the model\n",
    "msol = mdl.solve()\n",
    "\n",
    "# Print the solution\n",
    "print(\"Largest number of McNuggets we would NOT be able to purchase: \", msol[x]*6 + msol[y]*9 + msol[z]*20 - 150)\n"
   ]
  },
  {
   "cell_type": "code",
   "execution_count": null,
   "metadata": {},
   "outputs": [],
   "source": []
  }
 ],
 "metadata": {
  "kernelspec": {
   "display_name": "Python 3.10.4 ('py_cplex')",
   "language": "python",
   "name": "python3"
  },
  "language_info": {
   "codemirror_mode": {
    "name": "ipython",
    "version": 3
   },
   "file_extension": ".py",
   "mimetype": "text/x-python",
   "name": "python",
   "nbconvert_exporter": "python",
   "pygments_lexer": "ipython3",
   "version": "3.10.4"
  },
  "orig_nbformat": 4,
  "vscode": {
   "interpreter": {
    "hash": "4ad4e50790df1adc290194063a38ddab9b784578b3268fc04e81ab0a0ab2d055"
   }
  }
 },
 "nbformat": 4,
 "nbformat_minor": 2
}
